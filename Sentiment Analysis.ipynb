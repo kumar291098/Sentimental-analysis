{
 "cells": [
  {
   "cell_type": "code",
   "execution_count": 1,
   "id": "9c1e5d34-b879-41a9-bf06-b11ead0edb95",
   "metadata": {},
   "outputs": [],
   "source": [
    "import pandas as pd\n",
    "import numpy as np\n",
    "import re\n",
    "import nltk\n",
    "from nltk.corpus import stopwords\n",
    "from tensorflow.keras.preprocessing.text import Tokenizer\n",
    "from tensorflow.keras.preprocessing.sequence import pad_sequences\n",
    "from tensorflow.keras.models import Sequential\n",
    "\n",
    "from keras.layers import Dense, Embedding, LSTM, SpatialDropout1D, Dropout, Bidirectional, Concatenate, Input\n",
    "\n",
    "from sklearn.model_selection import train_test_split\n",
    "\n",
    "from keras.callbacks import EarlyStopping, ModelCheckpoint, ReduceLROnPlateau\n",
    "\n",
    "from sklearn.metrics import classification_report\n",
    "\n",
    "from tensorflow.keras.models import Model\n",
    "\n",
    "from sklearn.preprocessing import OneHotEncoder\n",
    "\n",
    "from sklearn.metrics import classification_report\n",
    "\n",
    "from sklearn.metrics import accuracy_score\n",
    "\n",
    "from sklearn.metrics import confusion_matrix\n",
    "\n",
    "import seaborn as sns\n",
    "\n",
    "import matplotlib.pyplot as plt\n",
    "\n",
    "from sklearn.metrics import classification_report\n"
   ]
  },
  {
   "cell_type": "code",
   "execution_count": 2,
   "id": "32ef413a-3ee0-424c-9a47-0faeab61dafd",
   "metadata": {},
   "outputs": [],
   "source": [
    "#read data\n",
    "train = pd.read_csv('./train.csv', encoding='ISO-8859-1')"
   ]
  },
  {
   "cell_type": "code",
   "execution_count": 3,
   "id": "e456b9fd-3028-4b65-bec8-e1646758dd38",
   "metadata": {},
   "outputs": [
    {
     "data": {
      "text/html": [
       "<div>\n",
       "<style scoped>\n",
       "    .dataframe tbody tr th:only-of-type {\n",
       "        vertical-align: middle;\n",
       "    }\n",
       "\n",
       "    .dataframe tbody tr th {\n",
       "        vertical-align: top;\n",
       "    }\n",
       "\n",
       "    .dataframe thead th {\n",
       "        text-align: right;\n",
       "    }\n",
       "</style>\n",
       "<table border=\"1\" class=\"dataframe\">\n",
       "  <thead>\n",
       "    <tr style=\"text-align: right;\">\n",
       "      <th></th>\n",
       "      <th>textID</th>\n",
       "      <th>text</th>\n",
       "      <th>selected_text</th>\n",
       "      <th>sentiment</th>\n",
       "      <th>Time of Tweet</th>\n",
       "      <th>Age of User</th>\n",
       "      <th>Country</th>\n",
       "      <th>Population -2020</th>\n",
       "      <th>Land Area (Km²)</th>\n",
       "      <th>Density (P/Km²)</th>\n",
       "    </tr>\n",
       "  </thead>\n",
       "  <tbody>\n",
       "    <tr>\n",
       "      <th>0</th>\n",
       "      <td>cb774db0d1</td>\n",
       "      <td>I`d have responded, if I were going</td>\n",
       "      <td>I`d have responded, if I were going</td>\n",
       "      <td>neutral</td>\n",
       "      <td>morning</td>\n",
       "      <td>0-20</td>\n",
       "      <td>Afghanistan</td>\n",
       "      <td>38928346</td>\n",
       "      <td>652860.0</td>\n",
       "      <td>60</td>\n",
       "    </tr>\n",
       "    <tr>\n",
       "      <th>1</th>\n",
       "      <td>549e992a42</td>\n",
       "      <td>Sooo SAD I will miss you here in San Diego!!!</td>\n",
       "      <td>Sooo SAD</td>\n",
       "      <td>negative</td>\n",
       "      <td>noon</td>\n",
       "      <td>21-30</td>\n",
       "      <td>Albania</td>\n",
       "      <td>2877797</td>\n",
       "      <td>27400.0</td>\n",
       "      <td>105</td>\n",
       "    </tr>\n",
       "    <tr>\n",
       "      <th>2</th>\n",
       "      <td>088c60f138</td>\n",
       "      <td>my boss is bullying me...</td>\n",
       "      <td>bullying me</td>\n",
       "      <td>negative</td>\n",
       "      <td>night</td>\n",
       "      <td>31-45</td>\n",
       "      <td>Algeria</td>\n",
       "      <td>43851044</td>\n",
       "      <td>2381740.0</td>\n",
       "      <td>18</td>\n",
       "    </tr>\n",
       "    <tr>\n",
       "      <th>3</th>\n",
       "      <td>9642c003ef</td>\n",
       "      <td>what interview! leave me alone</td>\n",
       "      <td>leave me alone</td>\n",
       "      <td>negative</td>\n",
       "      <td>morning</td>\n",
       "      <td>46-60</td>\n",
       "      <td>Andorra</td>\n",
       "      <td>77265</td>\n",
       "      <td>470.0</td>\n",
       "      <td>164</td>\n",
       "    </tr>\n",
       "    <tr>\n",
       "      <th>4</th>\n",
       "      <td>358bd9e861</td>\n",
       "      <td>Sons of ****, why couldn`t they put them on t...</td>\n",
       "      <td>Sons of ****,</td>\n",
       "      <td>negative</td>\n",
       "      <td>noon</td>\n",
       "      <td>60-70</td>\n",
       "      <td>Angola</td>\n",
       "      <td>32866272</td>\n",
       "      <td>1246700.0</td>\n",
       "      <td>26</td>\n",
       "    </tr>\n",
       "  </tbody>\n",
       "</table>\n",
       "</div>"
      ],
      "text/plain": [
       "       textID                                               text  \\\n",
       "0  cb774db0d1                I`d have responded, if I were going   \n",
       "1  549e992a42      Sooo SAD I will miss you here in San Diego!!!   \n",
       "2  088c60f138                          my boss is bullying me...   \n",
       "3  9642c003ef                     what interview! leave me alone   \n",
       "4  358bd9e861   Sons of ****, why couldn`t they put them on t...   \n",
       "\n",
       "                         selected_text sentiment Time of Tweet Age of User  \\\n",
       "0  I`d have responded, if I were going   neutral       morning        0-20   \n",
       "1                             Sooo SAD  negative          noon       21-30   \n",
       "2                          bullying me  negative         night       31-45   \n",
       "3                       leave me alone  negative       morning       46-60   \n",
       "4                        Sons of ****,  negative          noon       60-70   \n",
       "\n",
       "       Country  Population -2020  Land Area (Km²)  Density (P/Km²)  \n",
       "0  Afghanistan          38928346         652860.0               60  \n",
       "1      Albania           2877797          27400.0              105  \n",
       "2      Algeria          43851044        2381740.0               18  \n",
       "3      Andorra             77265            470.0              164  \n",
       "4       Angola          32866272        1246700.0               26  "
      ]
     },
     "execution_count": 3,
     "metadata": {},
     "output_type": "execute_result"
    }
   ],
   "source": [
    "train.head()"
   ]
  },
  {
   "cell_type": "code",
   "execution_count": 4,
   "id": "e70968b6-de18-4f78-902f-aa6d7ff54b01",
   "metadata": {},
   "outputs": [],
   "source": [
    "test = pd.read_csv('./test.csv', encoding='ISO-8859-1')"
   ]
  },
  {
   "cell_type": "code",
   "execution_count": 9,
   "id": "5c9caea1-d540-455c-ac4c-0ee47bd6cc4a",
   "metadata": {},
   "outputs": [
    {
     "data": {
      "text/html": [
       "<div>\n",
       "<style scoped>\n",
       "    .dataframe tbody tr th:only-of-type {\n",
       "        vertical-align: middle;\n",
       "    }\n",
       "\n",
       "    .dataframe tbody tr th {\n",
       "        vertical-align: top;\n",
       "    }\n",
       "\n",
       "    .dataframe thead th {\n",
       "        text-align: right;\n",
       "    }\n",
       "</style>\n",
       "<table border=\"1\" class=\"dataframe\">\n",
       "  <thead>\n",
       "    <tr style=\"text-align: right;\">\n",
       "      <th></th>\n",
       "      <th>textID</th>\n",
       "      <th>text</th>\n",
       "      <th>sentiment</th>\n",
       "      <th>Time of Tweet</th>\n",
       "      <th>Age of User</th>\n",
       "      <th>Country</th>\n",
       "      <th>Population -2020</th>\n",
       "      <th>Land Area (Km²)</th>\n",
       "      <th>Density (P/Km²)</th>\n",
       "    </tr>\n",
       "  </thead>\n",
       "  <tbody>\n",
       "    <tr>\n",
       "      <th>0</th>\n",
       "      <td>f87dea47db</td>\n",
       "      <td>Last session of the day  http://twitpic.com/67ezh</td>\n",
       "      <td>neutral</td>\n",
       "      <td>morning</td>\n",
       "      <td>0-20</td>\n",
       "      <td>Afghanistan</td>\n",
       "      <td>38928346.0</td>\n",
       "      <td>652860.0</td>\n",
       "      <td>60.0</td>\n",
       "    </tr>\n",
       "    <tr>\n",
       "      <th>1</th>\n",
       "      <td>96d74cb729</td>\n",
       "      <td>Shanghai is also really exciting (precisely -...</td>\n",
       "      <td>positive</td>\n",
       "      <td>noon</td>\n",
       "      <td>21-30</td>\n",
       "      <td>Albania</td>\n",
       "      <td>2877797.0</td>\n",
       "      <td>27400.0</td>\n",
       "      <td>105.0</td>\n",
       "    </tr>\n",
       "    <tr>\n",
       "      <th>2</th>\n",
       "      <td>eee518ae67</td>\n",
       "      <td>Recession hit Veronique Branquinho, she has to...</td>\n",
       "      <td>negative</td>\n",
       "      <td>night</td>\n",
       "      <td>31-45</td>\n",
       "      <td>Algeria</td>\n",
       "      <td>43851044.0</td>\n",
       "      <td>2381740.0</td>\n",
       "      <td>18.0</td>\n",
       "    </tr>\n",
       "    <tr>\n",
       "      <th>3</th>\n",
       "      <td>01082688c6</td>\n",
       "      <td>happy bday!</td>\n",
       "      <td>positive</td>\n",
       "      <td>morning</td>\n",
       "      <td>46-60</td>\n",
       "      <td>Andorra</td>\n",
       "      <td>77265.0</td>\n",
       "      <td>470.0</td>\n",
       "      <td>164.0</td>\n",
       "    </tr>\n",
       "    <tr>\n",
       "      <th>4</th>\n",
       "      <td>33987a8ee5</td>\n",
       "      <td>http://twitpic.com/4w75p - I like it!!</td>\n",
       "      <td>positive</td>\n",
       "      <td>noon</td>\n",
       "      <td>60-70</td>\n",
       "      <td>Angola</td>\n",
       "      <td>32866272.0</td>\n",
       "      <td>1246700.0</td>\n",
       "      <td>26.0</td>\n",
       "    </tr>\n",
       "  </tbody>\n",
       "</table>\n",
       "</div>"
      ],
      "text/plain": [
       "       textID                                               text sentiment  \\\n",
       "0  f87dea47db  Last session of the day  http://twitpic.com/67ezh   neutral   \n",
       "1  96d74cb729   Shanghai is also really exciting (precisely -...  positive   \n",
       "2  eee518ae67  Recession hit Veronique Branquinho, she has to...  negative   \n",
       "3  01082688c6                                        happy bday!  positive   \n",
       "4  33987a8ee5             http://twitpic.com/4w75p - I like it!!  positive   \n",
       "\n",
       "  Time of Tweet Age of User      Country  Population -2020  Land Area (Km²)  \\\n",
       "0       morning        0-20  Afghanistan        38928346.0         652860.0   \n",
       "1          noon       21-30      Albania         2877797.0          27400.0   \n",
       "2         night       31-45      Algeria        43851044.0        2381740.0   \n",
       "3       morning       46-60      Andorra           77265.0            470.0   \n",
       "4          noon       60-70       Angola        32866272.0        1246700.0   \n",
       "\n",
       "   Density (P/Km²)  \n",
       "0             60.0  \n",
       "1            105.0  \n",
       "2             18.0  \n",
       "3            164.0  \n",
       "4             26.0  "
      ]
     },
     "execution_count": 9,
     "metadata": {},
     "output_type": "execute_result"
    }
   ],
   "source": [
    "test.head()"
   ]
  },
  {
   "cell_type": "code",
   "execution_count": 11,
   "id": "5813c77b-a4c3-4795-b1d6-970192000557",
   "metadata": {},
   "outputs": [],
   "source": [
    "df_train=pd.DataFrame(train)"
   ]
  },
  {
   "cell_type": "code",
   "execution_count": 13,
   "id": "4d8ee670-44c2-47cf-90c0-7fe0666cb350",
   "metadata": {},
   "outputs": [
    {
     "data": {
      "text/html": [
       "<div>\n",
       "<style scoped>\n",
       "    .dataframe tbody tr th:only-of-type {\n",
       "        vertical-align: middle;\n",
       "    }\n",
       "\n",
       "    .dataframe tbody tr th {\n",
       "        vertical-align: top;\n",
       "    }\n",
       "\n",
       "    .dataframe thead th {\n",
       "        text-align: right;\n",
       "    }\n",
       "</style>\n",
       "<table border=\"1\" class=\"dataframe\">\n",
       "  <thead>\n",
       "    <tr style=\"text-align: right;\">\n",
       "      <th></th>\n",
       "      <th>textID</th>\n",
       "      <th>text</th>\n",
       "      <th>selected_text</th>\n",
       "      <th>sentiment</th>\n",
       "      <th>Time of Tweet</th>\n",
       "      <th>Age of User</th>\n",
       "      <th>Country</th>\n",
       "      <th>Population -2020</th>\n",
       "      <th>Land Area (Km²)</th>\n",
       "      <th>Density (P/Km²)</th>\n",
       "    </tr>\n",
       "  </thead>\n",
       "  <tbody>\n",
       "    <tr>\n",
       "      <th>0</th>\n",
       "      <td>cb774db0d1</td>\n",
       "      <td>I`d have responded, if I were going</td>\n",
       "      <td>I`d have responded, if I were going</td>\n",
       "      <td>neutral</td>\n",
       "      <td>morning</td>\n",
       "      <td>0-20</td>\n",
       "      <td>Afghanistan</td>\n",
       "      <td>38928346</td>\n",
       "      <td>652860.0</td>\n",
       "      <td>60</td>\n",
       "    </tr>\n",
       "    <tr>\n",
       "      <th>1</th>\n",
       "      <td>549e992a42</td>\n",
       "      <td>Sooo SAD I will miss you here in San Diego!!!</td>\n",
       "      <td>Sooo SAD</td>\n",
       "      <td>negative</td>\n",
       "      <td>noon</td>\n",
       "      <td>21-30</td>\n",
       "      <td>Albania</td>\n",
       "      <td>2877797</td>\n",
       "      <td>27400.0</td>\n",
       "      <td>105</td>\n",
       "    </tr>\n",
       "    <tr>\n",
       "      <th>2</th>\n",
       "      <td>088c60f138</td>\n",
       "      <td>my boss is bullying me...</td>\n",
       "      <td>bullying me</td>\n",
       "      <td>negative</td>\n",
       "      <td>night</td>\n",
       "      <td>31-45</td>\n",
       "      <td>Algeria</td>\n",
       "      <td>43851044</td>\n",
       "      <td>2381740.0</td>\n",
       "      <td>18</td>\n",
       "    </tr>\n",
       "    <tr>\n",
       "      <th>3</th>\n",
       "      <td>9642c003ef</td>\n",
       "      <td>what interview! leave me alone</td>\n",
       "      <td>leave me alone</td>\n",
       "      <td>negative</td>\n",
       "      <td>morning</td>\n",
       "      <td>46-60</td>\n",
       "      <td>Andorra</td>\n",
       "      <td>77265</td>\n",
       "      <td>470.0</td>\n",
       "      <td>164</td>\n",
       "    </tr>\n",
       "    <tr>\n",
       "      <th>4</th>\n",
       "      <td>358bd9e861</td>\n",
       "      <td>Sons of ****, why couldn`t they put them on t...</td>\n",
       "      <td>Sons of ****,</td>\n",
       "      <td>negative</td>\n",
       "      <td>noon</td>\n",
       "      <td>60-70</td>\n",
       "      <td>Angola</td>\n",
       "      <td>32866272</td>\n",
       "      <td>1246700.0</td>\n",
       "      <td>26</td>\n",
       "    </tr>\n",
       "  </tbody>\n",
       "</table>\n",
       "</div>"
      ],
      "text/plain": [
       "       textID                                               text  \\\n",
       "0  cb774db0d1                I`d have responded, if I were going   \n",
       "1  549e992a42      Sooo SAD I will miss you here in San Diego!!!   \n",
       "2  088c60f138                          my boss is bullying me...   \n",
       "3  9642c003ef                     what interview! leave me alone   \n",
       "4  358bd9e861   Sons of ****, why couldn`t they put them on t...   \n",
       "\n",
       "                         selected_text sentiment Time of Tweet Age of User  \\\n",
       "0  I`d have responded, if I were going   neutral       morning        0-20   \n",
       "1                             Sooo SAD  negative          noon       21-30   \n",
       "2                          bullying me  negative         night       31-45   \n",
       "3                       leave me alone  negative       morning       46-60   \n",
       "4                        Sons of ****,  negative          noon       60-70   \n",
       "\n",
       "       Country  Population -2020  Land Area (Km²)  Density (P/Km²)  \n",
       "0  Afghanistan          38928346         652860.0               60  \n",
       "1      Albania           2877797          27400.0              105  \n",
       "2      Algeria          43851044        2381740.0               18  \n",
       "3      Andorra             77265            470.0              164  \n",
       "4       Angola          32866272        1246700.0               26  "
      ]
     },
     "execution_count": 13,
     "metadata": {},
     "output_type": "execute_result"
    }
   ],
   "source": [
    "df_train.head()"
   ]
  },
  {
   "cell_type": "code",
   "execution_count": 15,
   "id": "04237899-db15-469a-b52c-d7d01f8e2439",
   "metadata": {},
   "outputs": [],
   "source": [
    "df_test=pd.DataFrame(test)"
   ]
  },
  {
   "cell_type": "code",
   "execution_count": 17,
   "id": "ec19981e-7d4a-4d5e-bfbf-ef3c8d6f2c21",
   "metadata": {},
   "outputs": [
    {
     "data": {
      "text/html": [
       "<div>\n",
       "<style scoped>\n",
       "    .dataframe tbody tr th:only-of-type {\n",
       "        vertical-align: middle;\n",
       "    }\n",
       "\n",
       "    .dataframe tbody tr th {\n",
       "        vertical-align: top;\n",
       "    }\n",
       "\n",
       "    .dataframe thead th {\n",
       "        text-align: right;\n",
       "    }\n",
       "</style>\n",
       "<table border=\"1\" class=\"dataframe\">\n",
       "  <thead>\n",
       "    <tr style=\"text-align: right;\">\n",
       "      <th></th>\n",
       "      <th>textID</th>\n",
       "      <th>text</th>\n",
       "      <th>sentiment</th>\n",
       "      <th>Time of Tweet</th>\n",
       "      <th>Age of User</th>\n",
       "      <th>Country</th>\n",
       "      <th>Population -2020</th>\n",
       "      <th>Land Area (Km²)</th>\n",
       "      <th>Density (P/Km²)</th>\n",
       "    </tr>\n",
       "  </thead>\n",
       "  <tbody>\n",
       "    <tr>\n",
       "      <th>0</th>\n",
       "      <td>f87dea47db</td>\n",
       "      <td>Last session of the day  http://twitpic.com/67ezh</td>\n",
       "      <td>neutral</td>\n",
       "      <td>morning</td>\n",
       "      <td>0-20</td>\n",
       "      <td>Afghanistan</td>\n",
       "      <td>38928346.0</td>\n",
       "      <td>652860.0</td>\n",
       "      <td>60.0</td>\n",
       "    </tr>\n",
       "    <tr>\n",
       "      <th>1</th>\n",
       "      <td>96d74cb729</td>\n",
       "      <td>Shanghai is also really exciting (precisely -...</td>\n",
       "      <td>positive</td>\n",
       "      <td>noon</td>\n",
       "      <td>21-30</td>\n",
       "      <td>Albania</td>\n",
       "      <td>2877797.0</td>\n",
       "      <td>27400.0</td>\n",
       "      <td>105.0</td>\n",
       "    </tr>\n",
       "    <tr>\n",
       "      <th>2</th>\n",
       "      <td>eee518ae67</td>\n",
       "      <td>Recession hit Veronique Branquinho, she has to...</td>\n",
       "      <td>negative</td>\n",
       "      <td>night</td>\n",
       "      <td>31-45</td>\n",
       "      <td>Algeria</td>\n",
       "      <td>43851044.0</td>\n",
       "      <td>2381740.0</td>\n",
       "      <td>18.0</td>\n",
       "    </tr>\n",
       "    <tr>\n",
       "      <th>3</th>\n",
       "      <td>01082688c6</td>\n",
       "      <td>happy bday!</td>\n",
       "      <td>positive</td>\n",
       "      <td>morning</td>\n",
       "      <td>46-60</td>\n",
       "      <td>Andorra</td>\n",
       "      <td>77265.0</td>\n",
       "      <td>470.0</td>\n",
       "      <td>164.0</td>\n",
       "    </tr>\n",
       "    <tr>\n",
       "      <th>4</th>\n",
       "      <td>33987a8ee5</td>\n",
       "      <td>http://twitpic.com/4w75p - I like it!!</td>\n",
       "      <td>positive</td>\n",
       "      <td>noon</td>\n",
       "      <td>60-70</td>\n",
       "      <td>Angola</td>\n",
       "      <td>32866272.0</td>\n",
       "      <td>1246700.0</td>\n",
       "      <td>26.0</td>\n",
       "    </tr>\n",
       "  </tbody>\n",
       "</table>\n",
       "</div>"
      ],
      "text/plain": [
       "       textID                                               text sentiment  \\\n",
       "0  f87dea47db  Last session of the day  http://twitpic.com/67ezh   neutral   \n",
       "1  96d74cb729   Shanghai is also really exciting (precisely -...  positive   \n",
       "2  eee518ae67  Recession hit Veronique Branquinho, she has to...  negative   \n",
       "3  01082688c6                                        happy bday!  positive   \n",
       "4  33987a8ee5             http://twitpic.com/4w75p - I like it!!  positive   \n",
       "\n",
       "  Time of Tweet Age of User      Country  Population -2020  Land Area (Km²)  \\\n",
       "0       morning        0-20  Afghanistan        38928346.0         652860.0   \n",
       "1          noon       21-30      Albania         2877797.0          27400.0   \n",
       "2         night       31-45      Algeria        43851044.0        2381740.0   \n",
       "3       morning       46-60      Andorra           77265.0            470.0   \n",
       "4          noon       60-70       Angola        32866272.0        1246700.0   \n",
       "\n",
       "   Density (P/Km²)  \n",
       "0             60.0  \n",
       "1            105.0  \n",
       "2             18.0  \n",
       "3            164.0  \n",
       "4             26.0  "
      ]
     },
     "execution_count": 17,
     "metadata": {},
     "output_type": "execute_result"
    }
   ],
   "source": [
    "df_test.head()"
   ]
  },
  {
   "cell_type": "code",
   "execution_count": 19,
   "id": "773155e2-db12-4bde-b029-983d067b6eb2",
   "metadata": {},
   "outputs": [],
   "source": [
    "# remove unwanted columns\n",
    "df_train.drop(['Density (P/Km²)', 'Land Area (Km²)', 'Population -2020', 'Country', 'Age of User', 'Time of Tweet', 'textID', 'selected_text'], axis=1, inplace=True)\n",
    "df_test.drop(['Density (P/Km²)', 'Land Area (Km²)', 'Population -2020', 'Country', 'Age of User', 'Time of Tweet', 'textID'],  axis=1, inplace=True)"
   ]
  },
  {
   "cell_type": "code",
   "execution_count": 21,
   "id": "c19d23ad-a86a-4e8a-9f11-f9074b7bee47",
   "metadata": {},
   "outputs": [
    {
     "data": {
      "text/html": [
       "<div>\n",
       "<style scoped>\n",
       "    .dataframe tbody tr th:only-of-type {\n",
       "        vertical-align: middle;\n",
       "    }\n",
       "\n",
       "    .dataframe tbody tr th {\n",
       "        vertical-align: top;\n",
       "    }\n",
       "\n",
       "    .dataframe thead th {\n",
       "        text-align: right;\n",
       "    }\n",
       "</style>\n",
       "<table border=\"1\" class=\"dataframe\">\n",
       "  <thead>\n",
       "    <tr style=\"text-align: right;\">\n",
       "      <th></th>\n",
       "      <th>text</th>\n",
       "      <th>sentiment</th>\n",
       "    </tr>\n",
       "  </thead>\n",
       "  <tbody>\n",
       "    <tr>\n",
       "      <th>0</th>\n",
       "      <td>I`d have responded, if I were going</td>\n",
       "      <td>neutral</td>\n",
       "    </tr>\n",
       "    <tr>\n",
       "      <th>1</th>\n",
       "      <td>Sooo SAD I will miss you here in San Diego!!!</td>\n",
       "      <td>negative</td>\n",
       "    </tr>\n",
       "    <tr>\n",
       "      <th>2</th>\n",
       "      <td>my boss is bullying me...</td>\n",
       "      <td>negative</td>\n",
       "    </tr>\n",
       "    <tr>\n",
       "      <th>3</th>\n",
       "      <td>what interview! leave me alone</td>\n",
       "      <td>negative</td>\n",
       "    </tr>\n",
       "    <tr>\n",
       "      <th>4</th>\n",
       "      <td>Sons of ****, why couldn`t they put them on t...</td>\n",
       "      <td>negative</td>\n",
       "    </tr>\n",
       "  </tbody>\n",
       "</table>\n",
       "</div>"
      ],
      "text/plain": [
       "                                                text sentiment\n",
       "0                I`d have responded, if I were going   neutral\n",
       "1      Sooo SAD I will miss you here in San Diego!!!  negative\n",
       "2                          my boss is bullying me...  negative\n",
       "3                     what interview! leave me alone  negative\n",
       "4   Sons of ****, why couldn`t they put them on t...  negative"
      ]
     },
     "execution_count": 21,
     "metadata": {},
     "output_type": "execute_result"
    }
   ],
   "source": [
    "df_train.head()"
   ]
  },
  {
   "cell_type": "code",
   "execution_count": 23,
   "id": "0f761847-c7fc-451f-a2f1-786e1d49b7f3",
   "metadata": {},
   "outputs": [
    {
     "data": {
      "text/html": [
       "<div>\n",
       "<style scoped>\n",
       "    .dataframe tbody tr th:only-of-type {\n",
       "        vertical-align: middle;\n",
       "    }\n",
       "\n",
       "    .dataframe tbody tr th {\n",
       "        vertical-align: top;\n",
       "    }\n",
       "\n",
       "    .dataframe thead th {\n",
       "        text-align: right;\n",
       "    }\n",
       "</style>\n",
       "<table border=\"1\" class=\"dataframe\">\n",
       "  <thead>\n",
       "    <tr style=\"text-align: right;\">\n",
       "      <th></th>\n",
       "      <th>text</th>\n",
       "      <th>sentiment</th>\n",
       "    </tr>\n",
       "  </thead>\n",
       "  <tbody>\n",
       "    <tr>\n",
       "      <th>0</th>\n",
       "      <td>Last session of the day  http://twitpic.com/67ezh</td>\n",
       "      <td>neutral</td>\n",
       "    </tr>\n",
       "    <tr>\n",
       "      <th>1</th>\n",
       "      <td>Shanghai is also really exciting (precisely -...</td>\n",
       "      <td>positive</td>\n",
       "    </tr>\n",
       "    <tr>\n",
       "      <th>2</th>\n",
       "      <td>Recession hit Veronique Branquinho, she has to...</td>\n",
       "      <td>negative</td>\n",
       "    </tr>\n",
       "    <tr>\n",
       "      <th>3</th>\n",
       "      <td>happy bday!</td>\n",
       "      <td>positive</td>\n",
       "    </tr>\n",
       "    <tr>\n",
       "      <th>4</th>\n",
       "      <td>http://twitpic.com/4w75p - I like it!!</td>\n",
       "      <td>positive</td>\n",
       "    </tr>\n",
       "  </tbody>\n",
       "</table>\n",
       "</div>"
      ],
      "text/plain": [
       "                                                text sentiment\n",
       "0  Last session of the day  http://twitpic.com/67ezh   neutral\n",
       "1   Shanghai is also really exciting (precisely -...  positive\n",
       "2  Recession hit Veronique Branquinho, she has to...  negative\n",
       "3                                        happy bday!  positive\n",
       "4             http://twitpic.com/4w75p - I like it!!  positive"
      ]
     },
     "execution_count": 23,
     "metadata": {},
     "output_type": "execute_result"
    }
   ],
   "source": [
    "df_test.head()"
   ]
  },
  {
   "cell_type": "code",
   "execution_count": 25,
   "id": "a3b501b1-0b8f-49d1-81cc-ea39324f5a15",
   "metadata": {},
   "outputs": [
    {
     "name": "stderr",
     "output_type": "stream",
     "text": [
      "[nltk_data] Downloading package stopwords to\n",
      "[nltk_data]     C:\\Users\\avnis\\AppData\\Roaming\\nltk_data...\n",
      "[nltk_data]   Package stopwords is already up-to-date!\n"
     ]
    }
   ],
   "source": [
    "# cleaning data\n",
    "nltk.download('stopwords')\n",
    "\n",
    "stop_words = set(stopwords.words('english'))"
   ]
  },
  {
   "cell_type": "code",
   "execution_count": 26,
   "id": "e24c763d-97c0-4002-ae9a-d8e65df29217",
   "metadata": {},
   "outputs": [
    {
     "name": "stdout",
     "output_type": "stream",
     "text": [
      "{'her', 'in', 'weren', \"isn't\", 'mustn', 'these', \"you're\", 'you', 'hasn', 'why', \"she's\", \"it's\", 'for', \"aren't\", 'while', \"shouldn't\", 'hers', 'of', 'such', \"won't\", 'y', 'from', 'themselves', 'at', 'be', 'and', 'isn', 'his', 'been', \"hadn't\", \"weren't\", 'only', 'yourself', 'some', 'this', 'have', 'won', 'yourselves', 'ours', 'to', 'few', 'were', 'under', \"mightn't\", \"you've\", 'he', 'into', 'its', 'on', 'most', 'am', 'them', 'wouldn', 'own', 'down', 'ain', 'did', 'an', 'here', 'too', 'doesn', 'just', 'o', 'before', 'if', \"you'll\", 'but', 'that', 'than', 'didn', 'my', 's', 'more', \"shan't\", 'the', 'wasn', 'further', 'can', 'when', 'ma', 'their', 'about', 'nor', 'm', \"didn't\", 'him', 'through', 'so', \"couldn't\", \"should've\", 'needn', 'until', 'each', 'our', 'has', 'both', \"you'd\", 'between', 'himself', 'shan', 'me', 'not', 'ourselves', 'how', \"wouldn't\", 'herself', 'above', 'or', 'i', 'is', 'had', \"hasn't\", 'now', 'are', \"that'll\", 'once', 'd', 'aren', \"mustn't\", 'it', 'a', 'should', 'haven', 'she', 'there', 'itself', 'same', \"doesn't\", 'they', \"don't\", 'which', 'below', 'hadn', 'mightn', 'with', 'theirs', 'other', 'do', 'after', 't', \"needn't\", 'was', 'again', 'what', 'doing', 'up', \"haven't\", 'your', 'as', 'having', 'against', 'over', 've', 'will', 'couldn', 'during', 'those', 'because', 'out', 'does', 'myself', 'yours', 'don', 'all', 're', \"wasn't\", 'being', 'shouldn', 'who', 'by', 'where', 'we', 'any', 'very', 'll', 'whom', 'then', 'off', 'no'}\n"
     ]
    }
   ],
   "source": [
    "print(stop_words)"
   ]
  },
  {
   "cell_type": "code",
   "execution_count": 29,
   "id": "1ddfff29-2787-45ff-a094-0d3e5be07e9c",
   "metadata": {},
   "outputs": [
    {
     "data": {
      "text/plain": [
       "text         1\n",
       "sentiment    0\n",
       "dtype: int64"
      ]
     },
     "execution_count": 29,
     "metadata": {},
     "output_type": "execute_result"
    }
   ],
   "source": [
    "df_train.isnull().sum()\n"
   ]
  },
  {
   "cell_type": "code",
   "execution_count": 31,
   "id": "0b82a418-0b7b-4375-8609-39f91d20dfac",
   "metadata": {},
   "outputs": [
    {
     "name": "stdout",
     "output_type": "stream",
     "text": [
      "    text sentiment\n",
      "314  NaN   neutral\n"
     ]
    }
   ],
   "source": [
    "null_rows = df_train[df_train.isnull().any(axis=1)]\n",
    "print(null_rows)"
   ]
  },
  {
   "cell_type": "code",
   "execution_count": 33,
   "id": "30b49ca1-6277-47e5-ab7f-1bea7efe1118",
   "metadata": {},
   "outputs": [
    {
     "data": {
      "text/plain": [
       "27481"
      ]
     },
     "execution_count": 33,
     "metadata": {},
     "output_type": "execute_result"
    }
   ],
   "source": [
    "len(df_train)\n"
   ]
  },
  {
   "cell_type": "code",
   "execution_count": 35,
   "id": "da11a330-5f8e-4dcf-a218-b3d59c1bdd98",
   "metadata": {},
   "outputs": [
    {
     "data": {
      "text/plain": [
       "text             NaN\n",
       "sentiment    neutral\n",
       "Name: 314, dtype: object"
      ]
     },
     "execution_count": 35,
     "metadata": {},
     "output_type": "execute_result"
    }
   ],
   "source": [
    " df_train.iloc[314]"
   ]
  },
  {
   "cell_type": "code",
   "execution_count": 37,
   "id": "a9c0c61d-8723-44b4-871f-95a526781073",
   "metadata": {},
   "outputs": [],
   "source": [
    "df_train.dropna(inplace=True)"
   ]
  },
  {
   "cell_type": "code",
   "execution_count": 39,
   "id": "3bd48ef5-5fbf-46ba-9f6f-8cf78a558b4a",
   "metadata": {},
   "outputs": [
    {
     "data": {
      "text/plain": [
       "text         0\n",
       "sentiment    0\n",
       "dtype: int64"
      ]
     },
     "execution_count": 39,
     "metadata": {},
     "output_type": "execute_result"
    }
   ],
   "source": [
    "df_train.isnull().sum()"
   ]
  },
  {
   "cell_type": "code",
   "execution_count": 41,
   "id": "78c85b61-d827-4a34-9263-2b62134a9560",
   "metadata": {},
   "outputs": [
    {
     "name": "stdout",
     "output_type": "stream",
     "text": [
      "Empty DataFrame\n",
      "Columns: [text, sentiment]\n",
      "Index: []\n"
     ]
    }
   ],
   "source": [
    "null_rows=df_train[df_train.isnull().any(axis=1)]\n",
    "print(null_rows)"
   ]
  },
  {
   "cell_type": "code",
   "execution_count": 43,
   "id": "a26bf29c-7013-45ab-975b-656a039260b8",
   "metadata": {},
   "outputs": [],
   "source": [
    "df_test.dropna(inplace=True)"
   ]
  },
  {
   "cell_type": "code",
   "execution_count": 45,
   "id": "633cf78e-2fb9-44ae-923c-84184c37099a",
   "metadata": {},
   "outputs": [
    {
     "data": {
      "text/plain": [
       "text         0\n",
       "sentiment    0\n",
       "dtype: int64"
      ]
     },
     "execution_count": 45,
     "metadata": {},
     "output_type": "execute_result"
    }
   ],
   "source": [
    "df_test.isnull().sum()"
   ]
  },
  {
   "cell_type": "code",
   "execution_count": 47,
   "id": "5fc9ef79-bc52-49d4-926e-d455c668be01",
   "metadata": {},
   "outputs": [
    {
     "data": {
      "text/plain": [
       "3534"
      ]
     },
     "execution_count": 47,
     "metadata": {},
     "output_type": "execute_result"
    }
   ],
   "source": [
    "len(df_test)"
   ]
  },
  {
   "cell_type": "code",
   "execution_count": 49,
   "id": "fe4e7b33-969c-4a9d-ad37-67782177acc6",
   "metadata": {},
   "outputs": [],
   "source": [
    "# preprocess the text\n",
    "\n",
    "def preprocess_text(text):\n",
    "    if not isinstance(text, str):\n",
    "        return ''\n",
    "\n",
    "    text = re.sub(r'[^a-zA-Z\\s]', '', text)\n",
    "    text=text.lower()\n",
    "    tokens = [word for word in text.split() if word not in stop_words]\n",
    "    return ' '.join(tokens)\n",
    "\n",
    "\n",
    "# Ensure the 'text' column is of string type\n",
    "df_train['text'] = df_train['text'].astype(str)\n",
    "df_test['text'] = df_test['text'].astype(str)\n",
    "\n",
    "df_train['text'] = df_train['text'].apply(preprocess_text)\n",
    "df_test['text'] = df_test['text'].apply(preprocess_text)"
   ]
  },
  {
   "cell_type": "code",
   "execution_count": 51,
   "id": "d363d799-ac27-4a8b-a66f-4b14e2ca93c2",
   "metadata": {},
   "outputs": [
    {
     "name": "stdout",
     "output_type": "stream",
     "text": [
      "                                       text sentiment\n",
      "0                        id responded going   neutral\n",
      "1                   sooo sad miss san diego  negative\n",
      "2                             boss bullying  negative\n",
      "3                     interview leave alone  negative\n",
      "4  sons couldnt put releases already bought  negative\n"
     ]
    }
   ],
   "source": [
    "print(df_train.head())"
   ]
  },
  {
   "cell_type": "code",
   "execution_count": 53,
   "id": "a801485c-9194-4a72-a9ff-387eb5c405f7",
   "metadata": {},
   "outputs": [],
   "source": [
    "# tokenization\n",
    "tokenizer=Tokenizer(num_words=2000)\n",
    "tokenizer.fit_on_texts(df_train['text'].values)\n",
    "X = tokenizer.texts_to_sequences(df_train['text'])\n",
    "\n",
    "X = pad_sequences(X, maxlen=100)\n",
    "\n",
    "y = pd.get_dummies(df_train['sentiment']).values\n",
    "\n",
    "tokenizer.fit_on_texts(df_test['text'])\n",
    "\n",
    "X_test_data = tokenizer.texts_to_sequences(df_test['text'])\n",
    "\n",
    "X_test_data = pad_sequences(X_test_data, maxlen=100)\n",
    "\n",
    "y_test_data = pd.get_dummies(df_test['sentiment']).values"
   ]
  },
  {
   "cell_type": "code",
   "execution_count": 72,
   "id": "dda9cea0-8475-449f-b2a9-c731ebf65012",
   "metadata": {},
   "outputs": [],
   "source": [
    "# mLSTM Model\n",
    "\n",
    "# Sample data shapes\n",
    "\n",
    "num_samples = 1000          # Number of samples\n",
    "\n",
    "max_text_length = 100        # Max length for text sequences\n",
    "\n",
    "num_features_text = 128     # Features for text data (e.g., embedding size)\n",
    "\n",
    "\n",
    "\n",
    "text_input = Input(shape=(max_text_length,), name='text_input')\n",
    "embedding_layer = Embedding(input_dim=len(tokenizer.word_index) + 1, output_dim=128)(text_input)\n",
    "text_lstm = Bidirectional(LSTM(64, return_sequences=True))(embedding_layer)\n",
    "text_lstm = Dropout(0.3)(text_lstm)\n",
    "text_lstm = Bidirectional(LSTM(32))(text_lstm)\n",
    "text_lstm = Dense(64, activation='relu')(text_lstm)\n",
    "text_lstm = Dropout(0.5)(text_lstm)\n",
    "\n",
    "output = Dense(3, activation='softmax')(text_lstm)\n",
    "\n",
    "\n",
    "\n",
    "# Define the model\n",
    "\n",
    "model = Model(inputs=text_input, outputs=output)\n",
    "\n",
    "\n",
    "\n",
    "# Compile the model\n",
    "\n",
    "model.compile(optimizer='adam', loss='categorical_crossentropy', metrics=['accuracy'])"
   ]
  },
  {
   "cell_type": "code",
   "execution_count": 76,
   "id": "7443c83e-cf4d-4244-88dd-5abc01e0943f",
   "metadata": {},
   "outputs": [
    {
     "name": "stdout",
     "output_type": "stream",
     "text": [
      "Epoch 1/50\n",
      "\u001b[1m602/602\u001b[0m \u001b[32m━━━━━━━━━━━━━━━━━━━━\u001b[0m\u001b[37m\u001b[0m \u001b[1m40s\u001b[0m 59ms/step - accuracy: 0.5029 - loss: 0.9769 - val_accuracy: 0.6986 - val_loss: 0.7250 - learning_rate: 0.0010\n",
      "Epoch 2/50\n",
      "\u001b[1m602/602\u001b[0m \u001b[32m━━━━━━━━━━━━━━━━━━━━\u001b[0m\u001b[37m\u001b[0m \u001b[1m35s\u001b[0m 58ms/step - accuracy: 0.7266 - loss: 0.6896 - val_accuracy: 0.7057 - val_loss: 0.7178 - learning_rate: 0.0010\n",
      "Epoch 3/50\n",
      "\u001b[1m602/602\u001b[0m \u001b[32m━━━━━━━━━━━━━━━━━━━━\u001b[0m\u001b[37m\u001b[0m \u001b[1m35s\u001b[0m 59ms/step - accuracy: 0.7528 - loss: 0.6344 - val_accuracy: 0.7091 - val_loss: 0.7025 - learning_rate: 0.0010\n",
      "Epoch 4/50\n",
      "\u001b[1m602/602\u001b[0m \u001b[32m━━━━━━━━━━━━━━━━━━━━\u001b[0m\u001b[37m\u001b[0m \u001b[1m35s\u001b[0m 59ms/step - accuracy: 0.7718 - loss: 0.5847 - val_accuracy: 0.7048 - val_loss: 0.7239 - learning_rate: 0.0010\n",
      "Epoch 5/50\n",
      "\u001b[1m602/602\u001b[0m \u001b[32m━━━━━━━━━━━━━━━━━━━━\u001b[0m\u001b[37m\u001b[0m \u001b[1m35s\u001b[0m 58ms/step - accuracy: 0.7906 - loss: 0.5505 - val_accuracy: 0.7005 - val_loss: 0.7562 - learning_rate: 0.0010\n",
      "Epoch 6/50\n",
      "\u001b[1m602/602\u001b[0m \u001b[32m━━━━━━━━━━━━━━━━━━━━\u001b[0m\u001b[37m\u001b[0m \u001b[1m37s\u001b[0m 61ms/step - accuracy: 0.8089 - loss: 0.4961 - val_accuracy: 0.6880 - val_loss: 0.8354 - learning_rate: 0.0010\n",
      "Epoch 7/50\n",
      "\u001b[1m602/602\u001b[0m \u001b[32m━━━━━━━━━━━━━━━━━━━━\u001b[0m\u001b[37m\u001b[0m \u001b[1m38s\u001b[0m 63ms/step - accuracy: 0.8362 - loss: 0.4349 - val_accuracy: 0.6829 - val_loss: 0.9535 - learning_rate: 5.0000e-04\n",
      "Epoch 8/50\n",
      "\u001b[1m602/602\u001b[0m \u001b[32m━━━━━━━━━━━━━━━━━━━━\u001b[0m\u001b[37m\u001b[0m \u001b[1m36s\u001b[0m 60ms/step - accuracy: 0.8533 - loss: 0.3895 - val_accuracy: 0.6743 - val_loss: 1.0332 - learning_rate: 5.0000e-04\n"
     ]
    }
   ],
   "source": [
    "#train model\n",
    "early_stopping = EarlyStopping(monitor='val_loss', patience=5, restore_best_weights=True)\n",
    "lr_reduction = ReduceLROnPlateau(monitor = 'val_loss', patience=3, factor=0.5, min_lr=0.00001)\n",
    "X_train, X_test, y_train, y_test = train_test_split(X, y, test_size = 0.3, random_state=42)\n",
    "\n",
    "history = model.fit(X_train, y_train, epochs = 50, batch_size = 32, validation_data=(X_test, y_test), callbacks=[early_stopping, lr_reduction])"
   ]
  },
  {
   "cell_type": "code",
   "execution_count": 78,
   "id": "2e2223e5-9dd2-4125-b97e-6dd007ac4ccc",
   "metadata": {},
   "outputs": [
    {
     "name": "stdout",
     "output_type": "stream",
     "text": [
      "\u001b[1m258/258\u001b[0m \u001b[32m━━━━━━━━━━━━━━━━━━━━\u001b[0m\u001b[37m\u001b[0m \u001b[1m3s\u001b[0m 11ms/step - accuracy: 0.7113 - loss: 0.6987\n",
      "Validation Loss:0.7025\n",
      "Validation accuracy: 70.91%\n"
     ]
    }
   ],
   "source": [
    "#evaluate model\n",
    "#Evaluate the model on validation data\n",
    "val_loss, val_accuracy = model.evaluate(X_test, y_test)\n",
    "print(f\"Validation Loss:{val_loss:.4f}\")\n",
    "print(f\"Validation accuracy:{val_accuracy*100: .2f}%\")"
   ]
  },
  {
   "cell_type": "code",
   "execution_count": 80,
   "id": "3dccb994-62f4-4beb-9845-02106ef3fff3",
   "metadata": {},
   "outputs": [
    {
     "name": "stdout",
     "output_type": "stream",
     "text": [
      "\u001b[1m111/111\u001b[0m \u001b[32m━━━━━━━━━━━━━━━━━━━━\u001b[0m\u001b[37m\u001b[0m \u001b[1m2s\u001b[0m 14ms/step\n",
      "Predictions:[2 1 1 2 1 2 1 2 2 1] \n",
      "True Labels:[1 2 0 2 2 2 0 0 1 1] \n"
     ]
    }
   ],
   "source": [
    "#make Prediction on validation data\n",
    "y_pred = model.predict(X_test_data)\n",
    "\n",
    "#If its a classification task , you might want to convert softmax probabilities to class labels:\n",
    "\n",
    "y_pred_class = np.argmax(y_pred, axis=1)\n",
    "y_true_class = np.argmax(y_test_data, axis = 1)\n",
    "\n",
    "#Compare prediction with actual labels\n",
    "\n",
    "print(f\"Predictions:{y_pred_class[:10]} \")\n",
    "print(f\"True Labels:{y_true_class[:10]} \")"
   ]
  },
  {
   "cell_type": "code",
   "execution_count": 82,
   "id": "74ee61e1-3a03-489d-bfd8-ece325172a07",
   "metadata": {},
   "outputs": [
    {
     "data": {
      "image/png": "[encoded data removed]",
      "text/plain": [
       "<Figure size 800x600 with 2 Axes>"
      ]
     },
     "metadata": {},
     "output_type": "display_data"
    }
   ],
   "source": [
    "#Create confusion matrix \n",
    "conf_matrix = confusion_matrix(y_true_class, y_pred_class)\n",
    "\n",
    "#Visualize the confusion matrix\n",
    "\n",
    "plt.figure(figsize = (8, 6))\n",
    "\n",
    "sns.heatmap(conf_matrix, annot=True, fmt = \"d\", cmap = \"Blues\")\n",
    "\n",
    "plt.ylabel('Actual Label')\n",
    "plt.xlabel('Prediction Label')\n",
    "\n",
    "plt.show()"
   ]
  },
  {
   "cell_type": "code",
   "execution_count": 84,
   "id": "46f01d4a-ce17-4622-bfb0-616831d102ee",
   "metadata": {},
   "outputs": [
    {
     "name": "stdout",
     "output_type": "stream",
     "text": [
      "              precision    recall  f1-score   support\n",
      "\n",
      "           0       0.44      0.31      0.36      1001\n",
      "           1       0.49      0.64      0.55      1430\n",
      "           2       0.58      0.49      0.53      1103\n",
      "\n",
      "    accuracy                           0.50      3534\n",
      "   macro avg       0.50      0.48      0.48      3534\n",
      "weighted avg       0.50      0.50      0.49      3534\n",
      "\n"
     ]
    }
   ],
   "source": [
    "#Print classification report\n",
    "print(classification_report(y_true_class, y_pred_class))"
   ]
  },
  {
   "cell_type": "code",
   "execution_count": 86,
   "id": "6b26dd34-60c9-444a-a31a-a1a3020eca9c",
   "metadata": {},
   "outputs": [
    {
     "data": {
      "image/png": "[encoded data removed]",
      "text/plain": [
       "<Figure size 640x480 with 1 Axes>"
      ]
     },
     "metadata": {},
     "output_type": "display_data"
    }
   ],
   "source": [
    "#plot accuracy\n",
    "plt.plot(history.history['accuracy'], label='train accuracy')\n",
    "\n",
    "plt.plot(history.history['val_accuracy'], label='val accuracy')\n",
    "\n",
    "plt.xlabel('Epochs')\n",
    "\n",
    "plt.ylabel('Accuracy')\n",
    "\n",
    "plt.legend()\n",
    "plt.show()"
   ]
  },
  {
   "cell_type": "code",
   "execution_count": null,
   "id": "01ce5374-8053-4e2d-9bed-18a927f6ae64",
   "metadata": {},
   "outputs": [],
   "source": []
  }
 ],
 "metadata": {
  "kernelspec": {
   "display_name": "Python 3 (ipykernel)",
   "language": "python",
   "name": "python3"
  },
  "language_info": {
   "codemirror_mode": {
    "name": "ipython",
    "version": 3
   },
   "file_extension": ".py",
   "mimetype": "text/x-python",
   "name": "python",
   "nbconvert_exporter": "python",
   "pygments_lexer": "ipython3",
   "version": "3.12.4"
  }
 },
 "nbformat": 4,
 "nbformat_minor": 5
}
